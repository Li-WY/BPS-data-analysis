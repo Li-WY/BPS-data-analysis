{
 "cells": [
  {
   "cell_type": "code",
   "execution_count": 1,
   "metadata": {},
   "outputs": [],
   "source": [
    "from Bio.Seq import Seq\n",
    "from Bio.SeqIO.QualityIO import FastqGeneralIterator\n",
    "import numpy as np\n",
    "import re\n",
    "import os\n",
    "import gzip"
   ]
  },
  {
   "cell_type": "code",
   "execution_count": 9,
   "metadata": {},
   "outputs": [],
   "source": [
    "i5_index = {\n",
    "    \"D501\": \"AGGCTATA\",\n",
    "    \"D502\": \"GCCTCTAT\",\n",
    "    \"D503\": \"AGGATAGG\",\n",
    "    \"D504\": \"TCAGAGCC\",\n",
    "    \"D505\": \"CTTCGCCT\",\n",
    "    \"D506\": \"TAAGATTA\",\n",
    "    \"D507\": \"ACGTCCTG\",\n",
    "    \"D508\": \"GTCAGTAC\"\n",
    "}\n",
    "\n",
    "for k, v in i5_index.items():\n",
    "    i5_index[k] = str(Seq(v).reverse_complement())\n",
    "    \n",
    "i7_index = {\n",
    "    \"D701\": \"ATTACTCG\",\n",
    "    \"D702\": \"TCCGGAGA\", \n",
    "    \"D703\": \"CGCTCATT\", \n",
    "    \"D704\": \"GAGATTCC\", \n",
    "    \"D705\": \"ATTCAGAA\",\n",
    "    \"D706\": \"GAATTCGT\",\n",
    "    \"D707\": \"CTGAAGCT\",\n",
    "    \"D708\": \"TAATGCGC\",\n",
    "    \"D709\": \"CGGCTATG\",\n",
    "    \"D710\": \"TCCGCGAA\",\n",
    "    \"D711\": \"TCTCGCGC\",\n",
    "    \"D712\": \"AGCGATAG\"\n",
    "}"
   ]
  },
  {
   "cell_type": "code",
   "execution_count": 11,
   "metadata": {},
   "outputs": [],
   "source": [
    "# BPS double barcode cross validation\n",
    "dual_indices = [i7_index[\"D701\"] + \"_\" +i5_index[\"D501\"],\n",
    "               i7_index[\"D702\"] + \"_\" +i5_index[\"D502\"],\n",
    "               i7_index[\"D703\"] + \"_\" +i5_index[\"D503\"],\n",
    "               i7_index[\"D704\"] + \"_\" +i5_index[\"D504\"],\n",
    "               i7_index[\"D705\"] + \"_\" +i5_index[\"D505\"], \n",
    "               i7_index[\"D706\"] + \"_\" +i5_index[\"D506\"],\n",
    "               i7_index[\"D707\"] + \"_\" +i5_index[\"D507\"],\n",
    "               i7_index[\"D708\"] + \"_\" +i5_index[\"D508\"],\n",
    "               i7_index[\"D712\"] + \"_\" +i5_index[\"D508\"],\n",
    "               i7_index[\"D711\"] + \"_\" +i5_index[\"D507\"],\n",
    "               i7_index[\"D710\"] + \"_\" +i5_index[\"D506\"],\n",
    "               i7_index[\"D709\"] + \"_\" +i5_index[\"D505\"],\n",
    "               i7_index[\"D708\"] + \"_\" +i5_index[\"D504\"],\n",
    "               i7_index[\"D707\"] + \"_\" +i5_index[\"D503\"],\n",
    "               i7_index[\"D706\"] + \"_\" +i5_index[\"D502\"],\n",
    "               i7_index[\"D705\"] + \"_\" +i5_index[\"D501\"]\n",
    "               ]\n",
    "\n"
   ]
  },
  {
   "cell_type": "code",
   "execution_count": 12,
   "metadata": {},
   "outputs": [],
   "source": [
    "for i in dual_indices:\n",
    "    vars()[i] = open(i + \".txt\", \"w\")\n",
    "f_file = FastqGeneralIterator(gzip.open(\"./Undetermined_S0_L001_R1_001.fastq.gz\", \"rt\"))\n",
    "r_file = FastqGeneralIterator(gzip.open(\"./Undetermined_S0_L001_R2_001.fastq.gz\", \"rt\"))\n",
    "seqtag_pos = 0\n",
    "f_multitag_pos = 8\n",
    "f_barcode_pos = 57\n",
    "r_multitag_pos = 7\n",
    "r_barcode_pos = 32\n",
    "f_barcode_length = 34\n",
    "r_barcode_length = 27\n",
    "\n",
    "recipient_re = re.compile('\\D*?(.ACA|G.CA|GA.A|GAC.)\\D{4,7}?AA\\D{4,7}?AA\\D{4,7}?TT\\D{4,7}?(.TCG|C.CG|CT.G|CTC.)\\D*')\n",
    "donor_re = re.compile('\\D*?(.GGC|T.GC|TG.C|TGG.)\\D{4,7}?AA\\D{4,7}?TT\\D{4,7}?(.CGG|G.GG|GC.G|GCG.)\\D*')\n",
    "recipient_f_clipper = re.compile('(.ACA|G.CA|GA.A|GAC.)')\n",
    "donor_f_clipper = re.compile('(.GGC|T.GC|TG.C|TGG.)')\n",
    "recipient_r_clipper = re.compile('(.CTC|G.TC|GC.C|GCT.)')\n",
    "donor_r_clipper = re.compile('(.GCG|G.CG|GG.G|GGC.)')\n",
    "\n",
    "min_qs = 25\n",
    "quality_bps_count = 0\n",
    "\n",
    "for f_record, r_record in zip(f_file, r_file):\n",
    "    \n",
    "    fr = f_record[1]\n",
    "    rr = r_record[1]\n",
    "    fq = [ord(i) -33 for i in list(f_record[2])]\n",
    "    rq = [ord(i) - 33 for i in list(r_record[2])]\n",
    "    recipient_tag_grep = recipient_re.match(str(fr)[f_barcode_pos : f_barcode_pos + f_barcode_length])\n",
    "    donor_tag_grep = donor_re.match(str(rr)[r_barcode_pos : r_barcode_pos + r_barcode_length])\n",
    "    \n",
    "    if recipient_tag_grep is not None and donor_tag_grep is not None:\n",
    "        if np.mean(fq[recipient_tag_grep.start() : recipient_tag_grep.end()]) >= min_qs and \\\n",
    "        np.mean(rq[donor_tag_grep.start() : donor_tag_grep.end()]) >= min_qs:\n",
    "            index_read = f_record[0][-17:].replace(\"+\", \"_\")\n",
    "            f_multitag = fr[f_multitag_pos : f_multitag_pos + 6]\n",
    "            f_seqtag = fr[0:8]\n",
    "            r_seqtag = rr[0:7]\n",
    "            r_multitag = rr[r_multitag_pos : r_multitag_pos + 9]\n",
    "            quality_bps_count += 1\n",
    "            if index_read in dual_indices:\n",
    "                vars()[index_read].write(recipient_tag_grep.group()[4:-4] + \",\" + donor_tag_grep.group()[4:-4] \n",
    "                                     + \",\" + f_multitag + \",\" + r_multitag + \",\" + f_seqtag + r_seqtag + \"\\n\")\n",
    "#             vars()[index_read].write(rr + \"\\n\")\n",
    "\n",
    "\n",
    "for i in dual_indices:\n",
    "    vars()[i].close()"
   ]
  },
  {
   "cell_type": "code",
   "execution_count": 140,
   "metadata": {},
   "outputs": [
    {
     "name": "stdout",
     "output_type": "stream",
     "text": [
      "3790468\n"
     ]
    }
   ],
   "source": [
    "\n",
    "print(quality_bps_count)"
   ]
  }
 ],
 "metadata": {
  "kernelspec": {
   "display_name": "Python 3",
   "language": "python",
   "name": "python3"
  },
  "language_info": {
   "codemirror_mode": {
    "name": "ipython",
    "version": 3
   },
   "file_extension": ".py",
   "mimetype": "text/x-python",
   "name": "python",
   "nbconvert_exporter": "python",
   "pygments_lexer": "ipython3",
   "version": "3.9.0"
  }
 },
 "nbformat": 4,
 "nbformat_minor": 4
}
