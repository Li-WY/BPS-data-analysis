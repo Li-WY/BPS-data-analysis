{
 "cells": [
  {
   "cell_type": "code",
   "execution_count": 14,
   "metadata": {},
   "outputs": [],
   "source": [
    "from Bio.Seq import Seq\n",
    "from Bio.SeqIO.QualityIO import FastqGeneralIterator\n",
    "import numpy as np\n",
    "import re\n",
    "import os\n",
    "import gzip"
   ]
  },
  {
   "cell_type": "code",
   "execution_count": 64,
   "metadata": {},
   "outputs": [],
   "source": [
    "i5_index = {\n",
    "    \"D501\": \"AGGCTATA\",\n",
    "    \"D502\": \"GCCTCTAT\",\n",
    "    \"D503\": \"AGGATAGG\",\n",
    "    \"D504\": \"TCAGAGCC\",\n",
    "    \"D505\": \"CTTCGCCT\",\n",
    "    \"D506\": \"TAAGATTA\",\n",
    "    \"D507\": \"ACGTCCTG\",\n",
    "    \"D508\": \"GTCAGTAC\"\n",
    "}\n",
    "i7_index = {\n",
    "    \"D701\": \"ATTACTCG\",\n",
    "    \"D702\": \"TCCGGAGA\", \n",
    "    \"D703\": \"CGCTCATT\", \n",
    "    \"D704\": \"GAGATTCC\", \n",
    "    \"D705\": \"ATTCAGAA\",\n",
    "    \"D706\": \"GAATTCGT\",\n",
    "    \"D707\": \"CTGAAGCT\",\n",
    "    \"D708\": \"TAATGCGC\",\n",
    "    \"D709\": \"CGGCTATG\",\n",
    "    \"D710\": \"TCCGCGAA\",\n",
    "    \"D711\": \"TCTCGCGC\",\n",
    "    \"D712\": \"AGCGATAG\"\n",
    "}"
   ]
  },
  {
   "cell_type": "code",
   "execution_count": 90,
   "metadata": {},
   "outputs": [],
   "source": [
    "total_line = 11173943428"
   ]
  },
  {
   "cell_type": "code",
   "execution_count": 139,
   "metadata": {},
   "outputs": [],
   "source": [
    "dual_indices = [i7_index[\"D701\"] + \"_\" +i5_index[\"D501\"],\n",
    "               i7_index[\"D702\"] + \"_\" +i5_index[\"D502\"],\n",
    "               i7_index[\"D703\"] + \"_\" +i5_index[\"D503\"],\n",
    "               i7_index[\"D704\"] + \"_\" +i5_index[\"D504\"],\n",
    "               i7_index[\"D705\"] + \"_\" +i5_index[\"D505\"], \n",
    "               i7_index[\"D706\"] + \"_\" +i5_index[\"D506\"],\n",
    "               i7_index[\"D707\"] + \"_\" +i5_index[\"D507\"],\n",
    "               i7_index[\"D708\"] + \"_\" +i5_index[\"D508\"],\n",
    "               i7_index[\"D709\"] + \"_\" +i5_index[\"D502\"],\n",
    "               i7_index[\"D710\"] + \"_\" +i5_index[\"D506\"],\n",
    "               i7_index[\"D708\"] + \"_\" +i5_index[\"D505\"],\n",
    "               i7_index[\"D707\"] + \"_\" +i5_index[\"D504\"],\n",
    "               i7_index[\"D706\"] + \"_\" +i5_index[\"D503\"],\n",
    "               i7_index[\"D705\"] + \"_\" +i5_index[\"D502\"],\n",
    "               i7_index[\"D702\"] + \"_\" +i5_index[\"D506\"],\n",
    "               i7_index[\"D701\"] + \"_\" +i5_index[\"D507\"],\n",
    "               i7_index[\"D704\"] + \"_\" +i5_index[\"D508\"],\n",
    "               i7_index[\"D703\"] + \"_\" +i5_index[\"D501\"],\n",
    "               i7_index[\"D712\"] + \"_\" +i5_index[\"D503\"],\n",
    "               i7_index[\"D711\"] + \"_\" +i5_index[\"D507\"]\n",
    "               ]\n",
    "\n",
    "for i in dual_indices:\n",
    "    vars()[i] = open(i + \".txt\", \"w\")\n",
    "f_file = FastqGeneralIterator(gzip.open(\"./CRC_2_CKDL200166600-1a_HLLTTDSXY_L4_1.fq.gz\", \"rt\"))\n",
    "r_file = FastqGeneralIterator(gzip.open(\"./CRC_2_CKDL200166600-1a_HLLTTDSXY_L4_2.fq.gz\", \"rt\"))\n",
    "seqtag_pos = 0\n",
    "f_multitag_pos = 8\n",
    "f_barcode_pos = 57\n",
    "r_multitag_pos = 7\n",
    "r_barcode_pos = 32\n",
    "f_barcode_length = 34\n",
    "r_barcode_length = 27\n",
    "\n",
    "recipient_re = re.compile('\\D*?(.ACA|G.CA|GA.A|GAC.)\\D{4,7}?AA\\D{4,7}?AA\\D{4,7}?TT\\D{4,7}?(.TCG|C.CG|CT.G|CTC.)\\D*')\n",
    "donor_re = re.compile('\\D*?(.GGC|T.GC|TG.C|TGG.)\\D{4,7}?AA\\D{4,7}?TT\\D{4,7}?(.CGG|G.GG|GC.G|GCG.)\\D*')\n",
    "recipient_f_clipper = re.compile('(.ACA|G.CA|GA.A|GAC.)')\n",
    "donor_f_clipper = re.compile('(.GGC|T.GC|TG.C|TGG.)')\n",
    "recipient_r_clipper = re.compile('(.CTC|G.TC|GC.C|GCT.)')\n",
    "donor_r_clipper = re.compile('(.GCG|G.CG|GG.G|GGC.)')\n",
    "\n",
    "min_qs = 25\n",
    "quality_bps_count = 0\n",
    "\n",
    "for f_record, r_record in zip(f_file, r_file):\n",
    "    \n",
    "    fr = f_record[1]\n",
    "    rr = r_record[1]\n",
    "    fq = [ord(i) -33 for i in list(f_record[2])]\n",
    "    rq = [ord(i) - 33 for i in list(r_record[2])]\n",
    "    recipient_tag_grep = recipient_re.match(str(fr)[f_barcode_pos : f_barcode_pos + f_barcode_length])\n",
    "    donor_tag_grep = donor_re.match(str(rr)[r_barcode_pos : r_barcode_pos + r_barcode_length])\n",
    "    \n",
    "    if recipient_tag_grep is not None and donor_tag_grep is not None:\n",
    "        if np.mean(fq[recipient_tag_grep.start() : recipient_tag_grep.end()]) >= min_qs and \\\n",
    "        np.mean(rq[donor_tag_grep.start() : donor_tag_grep.end()]) >= min_qs:\n",
    "            index_read = f_record[0][-17:].replace(\"+\", \"_\")\n",
    "            f_multitag = fr[f_multitag_pos : f_multitag_pos + 6]\n",
    "            f_seqtag = fr[0:8]\n",
    "            r_seqtag = rr[0:7]\n",
    "            r_multitag = rr[r_multitag_pos : r_multitag_pos + 9]\n",
    "            quality_bps_count += 1\n",
    "            if index_read in dual_indices:\n",
    "                vars()[index_read].write(recipient_tag_grep.group()[4:-4] + \",\" + donor_tag_grep.group()[4:-4] \n",
    "                                     + \",\" + f_multitag + \",\" + r_multitag + \",\" + f_seqtag + r_seqtag + \"\\n\")\n",
    "#             vars()[index_read].write(rr + \"\\n\")\n",
    "\n",
    "\n",
    "for i in dual_indices:\n",
    "    vars()[i].close()"
   ]
  },
  {
   "cell_type": "code",
   "execution_count": 140,
   "metadata": {},
   "outputs": [
    {
     "name": "stdout",
     "output_type": "stream",
     "text": [
      "3790468\n"
     ]
    }
   ],
   "source": [
    "\n",
    "print(quality_bps_count)"
   ]
  },
  {
   "cell_type": "code",
   "execution_count": 158,
   "metadata": {
    "scrolled": true
   },
   "outputs": [],
   "source": [
    "f = open(\"/Users/xianan/Dropbox/BPS_lib/pSL439_donor_bc.txt\")\n",
    "pSL439_donor = []\n",
    "for line in f.readlines():\n",
    "    pSL439_donor.append(line.split(\",\")[0])\n",
    "f.close()\n",
    "f = open(\"/Users/xianan/Dropbox/BPS_lib/pSL438_donor_bc.txt\")\n",
    "pSL438_donor = []\n",
    "for line in f.readlines():\n",
    "    pSL438_donor.append(line.split(\",\")[0])\n",
    "f.close()"
   ]
  },
  {
   "cell_type": "code",
   "execution_count": 191,
   "metadata": {
    "scrolled": true
   },
   "outputs": [],
   "source": [
    "f = open(\"test_extracted_barcode_cluster.csv\")\n",
    "next(f)\n",
    "condensed439_donor = []\n",
    "for line in f.readlines():\n",
    "    condensed439_donor.append(line.split(\",\")[1])\n",
    "f.close()\n",
    "f = open(\"ATTACTCG_AGGCTATA_barcodes_pcr_cluster.csv\")\n",
    "next(f)\n",
    "condensed438_donor_ATTACTCG_AGGCTATA = []\n",
    "for line in f.readlines():\n",
    "    condensed438_donor_ATTACTCG_AGGCTATA.append(line.split(\",\")[1])\n",
    "f.close()\n",
    "f = open(\"CGCTCATT_AGGATAGG_barcodes_pcr_cluster.csv\")\n",
    "next(f)\n",
    "condensed438_donor_CGCTCATT_AGGATAGG = []\n",
    "for line in f.readlines():\n",
    "    condensed438_donor_CGCTCATT_AGGATAGG.append(line.split(\",\")[1])\n",
    "f.close()"
   ]
  },
  {
   "cell_type": "code",
   "execution_count": 164,
   "metadata": {},
   "outputs": [],
   "source": [
    "condensed_439_rc = []\n",
    "for i in condensed439_donor:\n",
    "    condensed_439_rc.append(str(Seq(i).reverse_complement()))"
   ]
  },
  {
   "cell_type": "code",
   "execution_count": 224,
   "metadata": {},
   "outputs": [],
   "source": [
    "f = open(\"/Users/xianan/Dropbox/BPS_lib/pSL439_donor_bc.txt\")\n",
    "pSL439_BC = []\n",
    "for i in f.readlines():\n",
    "    pSL439_BC.append(i.rstrip(\"\\n\").split(\",\")[1])\n",
    "f.close()\n",
    "f = open(\"/Users/xianan/Dropbox/BPS_lib/pSL438_donor_bc.txt\")\n",
    "pSL438_BC = []\n",
    "for i in f.readlines():\n",
    "    pSL438_BC.append(i.rstrip(\"\\n\").split(\",\")[1])\n",
    "f.close()"
   ]
  },
  {
   "cell_type": "code",
   "execution_count": 211,
   "metadata": {},
   "outputs": [],
   "source": [
    "f = open(\"ATTACTCG_AGGCTATA_barcodes_pcr_cluster.csv\")\n",
    "next(f)\n",
    "condensed438_donor_ATTACTCG_AGGCTATA = {}\n",
    "for line in f.readlines():\n",
    "    condensed438_donor_ATTACTCG_AGGCTATA[line.rstrip(\"\\n\").split(\",\")[1]] = int(line.rstrip(\"\\n\").split(\",\")[3])\n",
    "f.close()\n",
    "f = open(\"test_extracted_barcode_cluster.csv\")\n",
    "next(f)\n",
    "condensed439_donor = {}\n",
    "for line in f.readlines():\n",
    "    condensed439_donor[line.rstrip(\"\\n\").split(\",\")[1]] = int(line.rstrip(\"\\n\").split(\",\")[3])\n",
    "f.close()"
   ]
  },
  {
   "cell_type": "code",
   "execution_count": 223,
   "metadata": {
    "scrolled": false
   },
   "outputs": [
    {
     "name": "stdout",
     "output_type": "stream",
     "text": [
      "ACTTTAAATCGTTTGATTA 1279\n",
      "GAACAAAGGTCCTTTCCGC 1582\n",
      "TAAAAAAACTAATTCCAGC 1674\n"
     ]
    }
   ],
   "source": [
    "for k, v in condensed439_donor.items():\n",
    "    if v >= 1000 and k not in pSL439_BC:\n",
    "        print(k, v)"
   ]
  },
  {
   "cell_type": "code",
   "execution_count": 227,
   "metadata": {},
   "outputs": [
    {
     "name": "stdout",
     "output_type": "stream",
     "text": [
      "CCTCTAAATAAGTTGAAAA 772\n",
      "TATAAAACTTTCTTTAAAC 845\n",
      "TGTGAAACTAATTTATCAG 1426\n"
     ]
    }
   ],
   "source": [
    "for k, v in condensed438_donor_ATTACTCG_AGGCTATA.items():\n",
    "    if v >= 700 and k not in pSL438_BC:\n",
    "        print(k, v)"
   ]
  },
  {
   "cell_type": "code",
   "execution_count": 226,
   "metadata": {},
   "outputs": [
    {
     "name": "stdout",
     "output_type": "stream",
     "text": [
      "CAGGTAACCCATATGCATG\n",
      "CAGTAAAACGAGTTCTAAA\n",
      "AGTTGAAGCTTTTTGGTGA\n",
      "GTCCGAAGGCAGTTCTTCC\n",
      "GGTCCAAGGAGGTTAGAGA\n"
     ]
    }
   ],
   "source": [
    "for i in pSL438_BC:\n",
    "    if i not in condensed438_donor_ATTACTCG_AGGCTATA.keys():\n",
    "        print (i)"
   ]
  },
  {
   "cell_type": "code",
   "execution_count": null,
   "metadata": {},
   "outputs": [],
   "source": []
  }
 ],
 "metadata": {
  "kernelspec": {
   "display_name": "Python 3",
   "language": "python",
   "name": "python3"
  },
  "language_info": {
   "codemirror_mode": {
    "name": "ipython",
    "version": 3
   },
   "file_extension": ".py",
   "mimetype": "text/x-python",
   "name": "python",
   "nbconvert_exporter": "python",
   "pygments_lexer": "ipython3",
   "version": "3.9.0"
  }
 },
 "nbformat": 4,
 "nbformat_minor": 4
}
